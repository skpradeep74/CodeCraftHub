{
  "nbformat": 4,
  "nbformat_minor": 0,
  "metadata": {
    "colab": {
      "provenance": [],
      "authorship_tag": "ABX9TyPd5hhldS0rYtWHEDrb2AKF",
      "include_colab_link": true
    },
    "kernelspec": {
      "name": "python3",
      "display_name": "Python 3"
    },
    "language_info": {
      "name": "python"
    }
  },
  "cells": [
    {
      "cell_type": "markdown",
      "metadata": {
        "id": "view-in-github",
        "colab_type": "text"
      },
      "source": [
        "<a href=\"https://colab.research.google.com/github/skpradeep74/CodeCraftHub/blob/main/MLP1_Kaggle.ipynb\" target=\"_parent\"><img src=\"https://colab.research.google.com/assets/colab-badge.svg\" alt=\"Open In Colab\"/></a>"
      ]
    },
    {
      "cell_type": "markdown",
      "source": [
        "Create  MLP Model"
      ],
      "metadata": {
        "id": "EWB9ehbWnB5I"
      }
    },
    {
      "cell_type": "code",
      "execution_count": null,
      "metadata": {
        "id": "cI6aLLftm7xA"
      },
      "outputs": [],
      "source": [
        "from google.colab import userdata\n",
        "from os import environ\n",
        "\n",
        "environ[\"KAGGLE_KEY\"]      = userdata.get('KAGGLE_KEY')\n",
        "environ[\"KAGGLE_USERNAME\"] = userdata.get('KAGGLE_USERNAME')\n",
        "\n",
        "! pip -q install kaggle\n",
        "! kaggle competitions download -c house-prices-advanced-regression-techniques\n",
        "! unzip /content/house-prices-advanced-regression-techniques.zip"
      ]
    }
  ]
}